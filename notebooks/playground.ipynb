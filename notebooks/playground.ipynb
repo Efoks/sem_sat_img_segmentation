{
 "cells": [
  {
   "cell_type": "code",
   "execution_count": 1,
   "id": "initial_id",
   "metadata": {
    "collapsed": true,
    "ExecuteTime": {
     "end_time": "2023-10-18T19:21:36.450759100Z",
     "start_time": "2023-10-18T19:21:34.757254600Z"
    }
   },
   "outputs": [],
   "source": [
    "import config"
   ]
  },
  {
   "cell_type": "code",
   "execution_count": 2,
   "outputs": [
    {
     "name": "stdout",
     "output_type": "stream",
     "text": [
      "Configuration:\n",
      "Data Directory: C:/Users/edvar/PycharmProjects/miniFrance_project/data\n",
      "Image Size: (1000, 1000)\n",
      "Number of Classes: 16\n",
      "Backboneresnet50, is pretrained? True\n",
      "Devide for torch: cuda\n"
     ]
    }
   ],
   "source": [
    "config.print_config()"
   ],
   "metadata": {
    "collapsed": false,
    "ExecuteTime": {
     "end_time": "2023-10-18T19:21:51.087225700Z",
     "start_time": "2023-10-18T19:21:51.069203800Z"
    }
   },
   "id": "c2c4a331294c706"
  },
  {
   "cell_type": "code",
   "execution_count": null,
   "outputs": [],
   "source": [],
   "metadata": {
    "collapsed": false
   },
   "id": "b8492f7ccde9beef"
  },
  {
   "cell_type": "code",
   "execution_count": 2,
   "outputs": [
    {
     "name": "stdout",
     "output_type": "stream",
     "text": [
      "C:/Users/edvar/PycharmProjects/miniFrance_project/data\\train_images\\D006_0990-6305_25.tif\n"
     ]
    },
    {
     "name": "stderr",
     "output_type": "stream",
     "text": [
      "C:\\Users\\edvar\\miniconda3\\envs\\miniFrance_project\\lib\\site-packages\\rasterio\\__init__.py:220: NotGeoreferencedWarning: Dataset has no geotransform, gcps, or rpcs. The identity matrix be returned.\n",
      "  s = DatasetReader(path, driver=driver, sharing=sharing, **kwargs)\n"
     ]
    }
   ],
   "source": [
    "import os\n",
    "import logging\n",
    "import numpy as np\n",
    "import torch\n",
    "import matplotlib.pyplot as plt\n",
    "import rasterio\n",
    "from rasterio.plot import  reshape_as_image\n",
    "from PIL import Image\n",
    "from torchvision.io import read_image\n",
    "from torchvision import transforms\n",
    "from torchvision.transforms import ToTensor\n",
    "from torchvision.datasets import ImageFolder\n",
    "from torch.utils.data import Dataset, DataLoader\n",
    "from torch.utils.data.sampler import SubsetRandomSampler\n",
    "import config\n",
    "\n",
    "mean = [0.485, 0.456, 0.406]\n",
    "std = [0.229, 0.224, 0.225]\n",
    "\n",
    "logging.basicConfig(level=logging.INFO, format='%(asctime)s - %(name)s - %(levelname)s - %(message)s')\n",
    "logger = logging.getLogger(__name__)\n",
    "\n",
    "\n",
    "class MiniFranceDataset(Dataset):\n",
    "    def __init__(self, transform=None):\n",
    "        self.image_dir = config.TRAIN_IMAGE_DIR\n",
    "        self.mask_dir = config.TRAIN_MASK_DIR\n",
    "        self.image_files = os.listdir(config.TRAIN_IMAGE_DIR)\n",
    "        self.trasformation = transform\n",
    "\n",
    "    def __len__(self):\n",
    "        return len(self.image_files)\n",
    "\n",
    "    def __getitem__(self, idx):\n",
    "        image_filename = self.image_files[idx]\n",
    "        image_path = os.path.join(self.image_dir, image_filename)\n",
    "        # mask_path = os.path.join(self.mask_dir, f\"mask_{os.path.splitext(image_filename)[0]}.tif\")\n",
    "\n",
    "        image = reshape_as_image(rasterio.open(image_path).read())\n",
    "        # image = ToTensor()(image)\n",
    "        # mask = Image.open(mask_path).convert('RGB')\n",
    "        # mask = ToTensor()(mask)\n",
    "\n",
    "        # if self.trasformation:\n",
    "        #     image = self.trasformation(image)\n",
    "        #     # mask = self.transform(mask)\n",
    "\n",
    "        return image_path\n",
    "    \n",
    "data = MiniFranceDataset()\n",
    "    # print(data.image_files)\n",
    "\n",
    "print(data[0])\n",
    "# for i, image in enumerate(data):\n",
    "#     print(image.size)"
   ],
   "metadata": {
    "collapsed": false,
    "ExecuteTime": {
     "end_time": "2023-10-19T21:44:08.344238500Z",
     "start_time": "2023-10-19T21:44:05.357006400Z"
    }
   },
   "id": "81ea9ef8f3eae6f0"
  },
  {
   "cell_type": "code",
   "execution_count": 3,
   "outputs": [],
   "source": [
    "image_array = rasterio.open('C:/Users/edvar/PycharmProjects/miniFrance_project/data/train_images\\D006_0990-6305_25.tif').read()\n",
    "image_array = reshape_as_image(image_array)"
   ],
   "metadata": {
    "collapsed": false,
    "ExecuteTime": {
     "end_time": "2023-10-19T21:44:08.389119300Z",
     "start_time": "2023-10-19T21:44:08.346238100Z"
    }
   },
   "id": "395c67a00c30a52d"
  },
  {
   "cell_type": "code",
   "execution_count": null,
   "outputs": [],
   "source": [
    "plt.figure(figsize=(5, 5))\n",
    "plt.imshow(image_array)\n",
    "plt.show()"
   ],
   "metadata": {
    "collapsed": false,
    "ExecuteTime": {
     "start_time": "2023-10-19T21:44:19.391809300Z"
    }
   },
   "id": "ecc0b4171038ab06"
  },
  {
   "cell_type": "code",
   "execution_count": 1,
   "outputs": [],
   "source": [
    "import torch\n",
    "\n",
    "torch.cuda.empty_cache()"
   ],
   "metadata": {
    "collapsed": false,
    "ExecuteTime": {
     "end_time": "2023-10-21T21:05:56.369253300Z",
     "start_time": "2023-10-21T21:05:52.867882500Z"
    }
   },
   "id": "6950bc5bd5f45b0"
  },
  {
   "cell_type": "code",
   "execution_count": 2,
   "outputs": [
    {
     "data": {
      "text/plain": "True"
     },
     "execution_count": 2,
     "metadata": {},
     "output_type": "execute_result"
    }
   ],
   "source": [
    "torch.cuda.is_available()"
   ],
   "metadata": {
    "collapsed": false,
    "ExecuteTime": {
     "end_time": "2023-10-21T21:19:12.112685700Z",
     "start_time": "2023-10-21T21:19:12.089974700Z"
    }
   },
   "id": "1355a93f2065b9be"
  },
  {
   "cell_type": "code",
   "execution_count": 7,
   "outputs": [
    {
     "ename": "TypeError",
     "evalue": "'method-wrapper' object is not iterable",
     "output_type": "error",
     "traceback": [
      "\u001B[1;31m---------------------------------------------------------------------------\u001B[0m",
      "\u001B[1;31mTypeError\u001B[0m                                 Traceback (most recent call last)",
      "Cell \u001B[1;32mIn[7], line 2\u001B[0m\n\u001B[0;32m      1\u001B[0m \u001B[38;5;28;01mimport\u001B[39;00m \u001B[38;5;21;01mhyperparameter_config\u001B[39;00m\n\u001B[1;32m----> 2\u001B[0m \u001B[38;5;28;01mfor\u001B[39;00m value \u001B[38;5;129;01min\u001B[39;00m hyperparameter_config\u001B[38;5;241m.\u001B[39m\u001B[38;5;21m__repr__\u001B[39m:\n\u001B[0;32m      3\u001B[0m     \u001B[38;5;28mprint\u001B[39m(\u001B[38;5;124mf\u001B[39m\u001B[38;5;124m\"\u001B[39m\u001B[38;5;132;01m{\u001B[39;00mvalue\u001B[38;5;132;01m}\u001B[39;00m\u001B[38;5;124m\"\u001B[39m)\n",
      "\u001B[1;31mTypeError\u001B[0m: 'method-wrapper' object is not iterable"
     ]
    }
   ],
   "source": [
    "import hyperparameter_config\n",
    "for value in hyperparameter_config.__repr__:\n",
    "    print(f\"{value}\")"
   ],
   "metadata": {
    "collapsed": false,
    "ExecuteTime": {
     "end_time": "2023-10-22T17:09:06.427588400Z",
     "start_time": "2023-10-22T17:09:06.397987200Z"
    }
   },
   "id": "d42fa351353d9d2b"
  },
  {
   "cell_type": "code",
   "execution_count": 8,
   "outputs": [
    {
     "data": {
      "text/plain": "<method-wrapper '__repr__' of module object at 0x000001EF1664A160>"
     },
     "execution_count": 8,
     "metadata": {},
     "output_type": "execute_result"
    }
   ],
   "source": [
    "hyperparameter_config.__repr__"
   ],
   "metadata": {
    "collapsed": false,
    "ExecuteTime": {
     "end_time": "2023-10-22T17:09:14.835341900Z",
     "start_time": "2023-10-22T17:09:14.811260500Z"
    }
   },
   "id": "c0ffdd80b6db4c9f"
  },
  {
   "cell_type": "code",
   "execution_count": null,
   "outputs": [],
   "source": [],
   "metadata": {
    "collapsed": false
   },
   "id": "ac5adf4eeac116c0"
  }
 ],
 "metadata": {
  "kernelspec": {
   "display_name": "Python 3",
   "language": "python",
   "name": "python3"
  },
  "language_info": {
   "codemirror_mode": {
    "name": "ipython",
    "version": 2
   },
   "file_extension": ".py",
   "mimetype": "text/x-python",
   "name": "python",
   "nbconvert_exporter": "python",
   "pygments_lexer": "ipython2",
   "version": "2.7.6"
  }
 },
 "nbformat": 4,
 "nbformat_minor": 5
}
